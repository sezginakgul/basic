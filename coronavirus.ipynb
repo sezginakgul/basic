{
  "nbformat": 4,
  "nbformat_minor": 0,
  "metadata": {
    "colab": {
      "name": "coronavirus.ipynb",
      "provenance": []
    },
    "kernelspec": {
      "name": "python3",
      "display_name": "Python 3"
    },
    "language_info": {
      "name": "python"
    }
  },
  "cells": [
    {
      "cell_type": "markdown",
      "source": [
        "Problem :\n",
        "\n",
        "Task : Estimating the risk of death from coronavirus. Write a program that;\n",
        "\n",
        "Takes \"Yes\" or \"No\" from the user as an answer to the following questions :\n",
        "\n",
        "Are you a cigarette addict older than 75 years old? Variable → age\n",
        "\n",
        "Do you have a severe chronic disease? Variable → chronic\n",
        "\n",
        "Is your immune system too weak? Variable → immune\n",
        "\n",
        "Set a logical algorithm using boolean logic operators (and/or) and use if-statements with the given variables in order to print out us a message : \"You are in risky group\"(if True ) or \"You are not in risky group\" (if False)."
      ],
      "metadata": {
        "id": "bAwKDJdAbctx"
      }
    },
    {
      "cell_type": "code",
      "source": [
        "print(\"Welcome to the program for predicting the risk of death from coronavirus.\\\n",
        "Enter your answers as yes and no.\")\n",
        "\n",
        "yes = True\n",
        "no = False\n",
        "\n",
        "age = eval(input(\"Are you a cigarette addict older than 75 years old?\").lower())\n",
        "chronic = eval(input(\"Do you have a severe chronic disease?\").lower())\n",
        "immune =  eval(input(\"Is your immune system too weak?\").lower())\n",
        "risk = (age or immune or chronic)\n",
        "\n",
        "if risk :\n",
        "  print(\"You are in risky group\")\n",
        "else:\n",
        "  print(\"You are not in risky group\")"
      ],
      "metadata": {
        "id": "UV5V9xZrbgTs"
      },
      "execution_count": null,
      "outputs": []
    },
    {
      "cell_type": "code",
      "source": [
        ""
      ],
      "metadata": {
        "id": "3IswHYnAbk69"
      },
      "execution_count": null,
      "outputs": []
    }
  ]
}